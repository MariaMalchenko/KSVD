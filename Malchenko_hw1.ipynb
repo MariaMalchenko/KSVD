{
  "nbformat": 4,
  "nbformat_minor": 0,
  "metadata": {
    "colab": {
      "provenance": [],
      "authorship_tag": "ABX9TyNLcQjHyJN0vY7YS9TMAeUJ",
      "include_colab_link": true
    },
    "kernelspec": {
      "name": "python3",
      "display_name": "Python 3"
    },
    "language_info": {
      "name": "python"
    }
  },
  "cells": [
    {
      "cell_type": "markdown",
      "metadata": {
        "id": "view-in-github",
        "colab_type": "text"
      },
      "source": [
        "<a href=\"https://colab.research.google.com/github/MariaMalchenko/KSVD/blob/main/Malchenko_hw1.ipynb\" target=\"_parent\"><img src=\"https://colab.research.google.com/assets/colab-badge.svg\" alt=\"Open In Colab\"/></a>"
      ]
    },
    {
      "cell_type": "code",
      "execution_count": 1,
      "metadata": {
        "id": "vSEybdwES70s"
      },
      "outputs": [],
      "source": [
        "import numpy as np\n"
      ]
    },
    {
      "cell_type": "code",
      "source": [
        "# 1. Одновимірний масив з першими 20-ма натуральними числами\n",
        "a = np.arange(1, 21)\n",
        "a"
      ],
      "metadata": {
        "colab": {
          "base_uri": "https://localhost:8080/"
        },
        "id": "H4lmcw01UVky",
        "outputId": "29a3f81e-1702-432f-d9bb-dccbee0b295b"
      },
      "execution_count": 3,
      "outputs": [
        {
          "output_type": "execute_result",
          "data": {
            "text/plain": [
              "array([ 1,  2,  3,  4,  5,  6,  7,  8,  9, 10, 11, 12, 13, 14, 15, 16, 17,\n",
              "       18, 19, 20])"
            ]
          },
          "metadata": {},
          "execution_count": 3
        }
      ]
    },
    {
      "cell_type": "code",
      "source": [
        "# 1. Двовимірний масив 4x4, заповнений одиницями\n",
        "mtrx_4x4 = np.ones((4, 4))\n",
        "mtrx_4x4"
      ],
      "metadata": {
        "colab": {
          "base_uri": "https://localhost:8080/"
        },
        "id": "1ppwW59MUvg8",
        "outputId": "f1052bf2-7fd2-4f16-d70f-302b4f3edd26"
      },
      "execution_count": 5,
      "outputs": [
        {
          "output_type": "execute_result",
          "data": {
            "text/plain": [
              "array([[1., 1., 1., 1.],\n",
              "       [1., 1., 1., 1.],\n",
              "       [1., 1., 1., 1.],\n",
              "       [1., 1., 1., 1.]])"
            ]
          },
          "metadata": {},
          "execution_count": 5
        }
      ]
    },
    {
      "cell_type": "code",
      "source": [
        "# 2. Масив 5x5 з випадковими дійсними числами в діапазоні від -1 до 1\n",
        "mtrx_5x5 = np.random.uniform(-1, 1, (5, 5))\n",
        "mtrx_5x5"
      ],
      "metadata": {
        "colab": {
          "base_uri": "https://localhost:8080/"
        },
        "id": "Vlk2l8vlVN1e",
        "outputId": "6b62b906-1c7f-4541-c77f-19ed9d60895c"
      },
      "execution_count": 10,
      "outputs": [
        {
          "output_type": "execute_result",
          "data": {
            "text/plain": [
              "array([[-0.86936703,  0.16803909, -0.22452836,  0.11062717,  0.73571507],\n",
              "       [ 0.17814745, -0.46624659, -0.57142704,  0.4016452 ,  0.92174818],\n",
              "       [-0.65772201,  0.78141426, -0.09320574,  0.3149353 ,  0.32657773],\n",
              "       [ 0.83959454,  0.80932696, -0.16328425, -0.80632878, -0.0437021 ],\n",
              "       [-0.05626191, -0.95248336,  0.15213852, -0.12633224, -0.2848927 ]])"
            ]
          },
          "metadata": {},
          "execution_count": 10
        }
      ]
    },
    {
      "cell_type": "code",
      "source": [
        "# 3. Масив 3x3 з випадковими дійсними числами в діапазоні від 0 до 1\n",
        "mtrx_3x3 = np.random.uniform(0, 1, (3, 3))\n",
        "mtrx_3x3"
      ],
      "metadata": {
        "colab": {
          "base_uri": "https://localhost:8080/"
        },
        "id": "sPuU9c5NVnL6",
        "outputId": "d5ef4811-687a-4ec0-981d-a48691a2133f"
      },
      "execution_count": 11,
      "outputs": [
        {
          "output_type": "execute_result",
          "data": {
            "text/plain": [
              "array([[0.01752118, 0.81435625, 0.87735201],\n",
              "       [0.37887407, 0.47643705, 0.93753492],\n",
              "       [0.69184752, 0.32172262, 0.50188325]])"
            ]
          },
          "metadata": {},
          "execution_count": 11
        }
      ]
    },
    {
      "cell_type": "code",
      "source": [
        "# 4. Два одновимірні масиви розміром 6 з випадковими цілими числами від 1 до 20.\n",
        "# Поелементні операції додавання, віднімання, множення.\n",
        "m1 = np.random.randint(1, 21, 6)\n",
        "m2 = np.random.randint(1, 21, 6)\n",
        "print(m1)\n",
        "print(m2)\n",
        "print(\"+ :\", m1 + m2)\n",
        "print(\"- :\", m1 - m2)\n",
        "print(\"* :\", m1 * m2)"
      ],
      "metadata": {
        "colab": {
          "base_uri": "https://localhost:8080/"
        },
        "id": "xhQK_-tkWJik",
        "outputId": "80c4488d-63ca-41ea-fe62-52ce008b83e3"
      },
      "execution_count": 16,
      "outputs": [
        {
          "output_type": "stream",
          "name": "stdout",
          "text": [
            "[16 20  7  6 11  3]\n",
            "[ 2  9 12 16 13 12]\n",
            "+ : [18 29 19 22 24 15]\n",
            "- : [ 14  11  -5 -10  -2  -9]\n",
            "* : [ 32 180  84  96 143  36]\n"
          ]
        }
      ]
    },
    {
      "cell_type": "code",
      "source": [
        "# 5. Дві матриці 3x2 та 2x4, заповнені випадковими цілими числами, їх добуток\n",
        "mtrx_3x2 = np.random.randint(1, 6, (3, 2))\n",
        "mtrx_2x4 = np.random.randint(1, 6, (2, 4))\n",
        "new_mtrx = np.dot(mtrx_3x2, mtrx_2x4)\n",
        "print(mtrx_3x2)\n",
        "print(mtrx_2x4)\n",
        "print(\"Добуток матриць:\\n\", new_mtrx)\n"
      ],
      "metadata": {
        "colab": {
          "base_uri": "https://localhost:8080/"
        },
        "id": "WHSihNrlWh9x",
        "outputId": "520a0c6f-e168-42ae-e668-ece78f10635e"
      },
      "execution_count": 18,
      "outputs": [
        {
          "output_type": "stream",
          "name": "stdout",
          "text": [
            "[[3 1]\n",
            " [3 5]\n",
            " [3 5]]\n",
            "[[2 5 3 5]\n",
            " [1 3 4 3]]\n",
            "Добуток матриць:\n",
            " [[ 7 18 13 18]\n",
            " [11 30 29 30]\n",
            " [11 30 29 30]]\n"
          ]
        }
      ]
    },
    {
      "cell_type": "code",
      "source": [
        "# 6. Транспонування матриці 3x3\n",
        "mtrx2_3x3 = np.random.uniform(0, 1, (3, 3))\n",
        "print(mtrx2_3x3)\n",
        "mtrx2_3x3.T"
      ],
      "metadata": {
        "colab": {
          "base_uri": "https://localhost:8080/"
        },
        "id": "TjdvS0QoXtro",
        "outputId": "1de05a71-3560-450c-d185-e03a2e16f749"
      },
      "execution_count": 25,
      "outputs": [
        {
          "output_type": "stream",
          "name": "stdout",
          "text": [
            "[[0.479836   0.56991782 0.54600506]\n",
            " [0.02703758 0.25964128 0.44288483]\n",
            " [0.15263308 0.55355871 0.26934425]]\n"
          ]
        },
        {
          "output_type": "execute_result",
          "data": {
            "text/plain": [
              "array([[0.479836  , 0.02703758, 0.15263308],\n",
              "       [0.56991782, 0.25964128, 0.55355871],\n",
              "       [0.54600506, 0.44288483, 0.26934425]])"
            ]
          },
          "metadata": {},
          "execution_count": 25
        }
      ]
    },
    {
      "cell_type": "code",
      "source": [
        "# 7. Дві матриці 3x3, їх різниця\n",
        "A = np.random.randint(1, 11, (3, 3))\n",
        "B = np.random.randint(1, 11, (3, 3))\n",
        "subtraction = A - B\n",
        "print(A)\n",
        "print(B)\n",
        "print(\"Різниця матриць:\\n\", subtraction)"
      ],
      "metadata": {
        "colab": {
          "base_uri": "https://localhost:8080/"
        },
        "id": "cDSYxBE0bilh",
        "outputId": "c1ff3ffa-daf5-4b4b-a43f-759d16e81228"
      },
      "execution_count": 26,
      "outputs": [
        {
          "output_type": "stream",
          "name": "stdout",
          "text": [
            "[[10  9  1]\n",
            " [ 1  2  5]\n",
            " [ 6  8  7]]\n",
            "[[ 3  3 10]\n",
            " [ 6  1  6]\n",
            " [ 9  4  2]]\n",
            "Різниця матриць:\n",
            " [[ 7  6 -9]\n",
            " [-5  1 -1]\n",
            " [-3  4  5]]\n"
          ]
        }
      ]
    },
    {
      "cell_type": "code",
      "source": [
        "# 8. Дві матриці 3x3, їх добуток\n",
        "C = np.random.randint(-5, 6, (3, 3))\n",
        "D = np.random.randint(-5, 6, (3, 3))\n",
        "product_CD = np.dot(C, D)\n",
        "print(C)\n",
        "print(D)\n",
        "print(\"Добуток матриць:\\n\", product_CD)"
      ],
      "metadata": {
        "colab": {
          "base_uri": "https://localhost:8080/"
        },
        "id": "MpXkbqW6cE3-",
        "outputId": "9c596e4e-90cf-4636-adf3-402e204db4e3"
      },
      "execution_count": 28,
      "outputs": [
        {
          "output_type": "stream",
          "name": "stdout",
          "text": [
            "[[-1 -2  4]\n",
            " [-1 -4  5]\n",
            " [ 1  0 -3]]\n",
            "[[-5 -3  0]\n",
            " [-2  2  4]\n",
            " [ 4 -1 -4]]\n",
            "Добуток матриць:\n",
            " [[ 25  -5 -24]\n",
            " [ 33 -10 -36]\n",
            " [-17   0  12]]\n"
          ]
        }
      ]
    },
    {
      "cell_type": "code",
      "source": [
        "# 9. Вектор-стовпчик, що містить суму елементів кожного рядка 3x3 матриці\n",
        "E = np.random.uniform(-1, 1, (3, 3))\n",
        "row_sums = np.sum(E, axis=1).reshape(-1, 1)\n",
        "print(E)\n",
        "print(\"Вектор-стовпчик сум рядків:\\n\", row_sums)"
      ],
      "metadata": {
        "colab": {
          "base_uri": "https://localhost:8080/"
        },
        "id": "PSX0AJ-2c8HG",
        "outputId": "b968175d-d0fc-430f-fff8-2402eb180168"
      },
      "execution_count": 29,
      "outputs": [
        {
          "output_type": "stream",
          "name": "stdout",
          "text": [
            "[[ 0.71796396  0.72894639  0.90309408]\n",
            " [-0.46994023 -0.56836572  0.56928412]\n",
            " [ 0.10253034 -0.45062171  0.45486627]]\n",
            "Вектор-стовпчик сум рядків:\n",
            " [[ 2.35000443]\n",
            " [-0.46902183]\n",
            " [ 0.1067749 ]]\n"
          ]
        }
      ]
    }
  ]
}